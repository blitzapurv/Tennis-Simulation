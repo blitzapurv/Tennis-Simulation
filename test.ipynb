{
 "cells": [
  {
   "cell_type": "code",
   "execution_count": 19,
   "metadata": {},
   "outputs": [],
   "source": [
    "import streamlit as st\n",
    "import time\n",
    "import random\n",
    "import numpy as np\n",
    "import pandas as pd\n",
    "import streamlit as st\n",
    "import plotly.graph_objects as go\n",
    "from sklearn.model_selection import train_test_split\n",
    "from sklearn.preprocessing import LabelEncoder\n",
    "import csv\n",
    "import pickle\n",
    "from utils import get_encoder\n",
    "import warnings\n",
    "warnings.filterwarnings('ignore')\n",
    "\n",
    "\n",
    "Server_win = pickle.load(open('model_pkl_tuned_new_features','rb'))    \n",
    "encoder = get_encoder(col='player')\n",
    "df_info = pd.read_csv(\"data/data.csv\", index_col=0)\n",
    "\n"
   ]
  },
  {
   "cell_type": "code",
   "execution_count": 116,
   "metadata": {},
   "outputs": [],
   "source": [
    "def serve_winner(test_point):\n",
    "    i = random.random()\n",
    "    a = test_point\n",
    "    if i < Server_win.predict_proba(a)[0][1]:\n",
    "        return 1\n",
    "    else:\n",
    "        return 0\n",
    "\n",
    "def simulate_points(server,receiver,GN,serve_number,server_points_total):\n",
    "    \n",
    "    test_point = np.array([server,receiver,GN,serve_number,server_points_total]).reshape(1,-1)\n",
    "    point_winner = serve_winner(test_point)\n",
    "    server_win_prob = Server_win.predict_proba(test_point)[0][1]\n",
    "    return point_winner, server_win_prob\n",
    "\n",
    "\n",
    "def simulate_game(server, receiver):  \n",
    "    player_score, player_sets, player_games, final_score = dict(), dict(), dict(), dict()\n",
    "    \n",
    "    i = 0\n",
    "    \n",
    "    # csv_columns = ['server','Receiver','Serv_prob']\n",
    "    #server = np.random.choice(df_info['server']) \n",
    "    #receiver = np.random.choice(df_info['Receiver'])\n",
    "\n",
    "    receiver_name  = encoder.inverse_transform(receiver.reshape(-1,1))[0]\n",
    "    server_name =  encoder.inverse_transform(server.reshape(-1,1))[0]\n",
    "    result_df = pd.DataFrame(columns=['server', 'server_name', 'receiver', 'receiver_name', 'winner', 'winner_name'])\n",
    "    tot_player_points = {server_name:0, receiver_name:0}\n",
    "    player1, player2 = server_name, receiver_name\n",
    "    win_prob = {player1: \"NA\", player2: \"NA\"}\n",
    "    \n",
    "    game_counter = 0\n",
    "    serve_counter = 0\n",
    "    \n",
    "    player_sets[f'{server_name}_sets'], player_sets[f'{receiver_name}_sets'] = 0, 0\n",
    "    final_score[server], final_score[receiver] = 0, 0\n",
    "\n",
    "    while player_sets[f'{server_name}_sets'] != 2 and player_sets[f'{receiver_name}_sets'] != 2:\n",
    "        player_games[f'{server_name}_games'],player_games[f'{receiver_name}_games'] = 0, 0\n",
    "        games_to_win = 6\n",
    "        while player_games[f'{server_name}_games'] != games_to_win and player_games[f'{receiver_name}_games'] != games_to_win:\n",
    "            player_score[f'{server_name}_score'], player_score[f'{receiver_name}_score'] = 0, 0\n",
    "            deuce = False\n",
    "            server_name, receiver_name = receiver_name, server_name\n",
    "            server, receiver = receiver, server\n",
    "            while deuce == True or (player_score[f'{server_name}_score'] < 4 and player_score[f'{receiver_name}_score'] < 4):\n",
    "                point_winner, server_win_prob = simulate_points(server,receiver,game_counter,serve_counter,\n",
    "                                               tot_player_points[server_name])\n",
    "                if point_winner == 1:\n",
    "                    player_score[f'{server_name}_score'] += 1\n",
    "                    tot_player_points[server_name] += 1\n",
    "                else :\n",
    "                    player_score[f'{receiver_name}_score'] += 1\n",
    "                    tot_player_points[receiver_name] += 1\n",
    "                if player_score[f'{server_name}_score'] >= 3 and player_score[f'{receiver_name}_score'] >= 3:\n",
    "                    deuce = True\n",
    "                    if abs(player_score[f'{server_name}_score'] - player_score[f'{receiver_name}_score']) == 2:\n",
    "                        deuce = False\n",
    "                        \n",
    "                server_win_prob = round(server_win_prob, 2)\n",
    "                win_prob[server_name] = server_win_prob\n",
    "                win_prob[receiver_name] = 1 - server_win_prob\n",
    "                result_df = result_df.append(pd.DataFrame([[server, server_name, receiver, receiver_name, point_winner, point_winner]], \n",
    "                                              columns=['server', 'server_name', 'receiver', 'receiver_name', 'winner', 'winner_name']))\n",
    "                \n",
    "                i += 1\n",
    "                serve_counter += 1\n",
    "                \n",
    "            if player_score[f'{server_name}_score'] > player_score[f'{receiver_name}_score']:\n",
    "                player_games[f'{server_name}_games'] += 1\n",
    "            else:\n",
    "                player_games[f'{receiver_name}_games'] += 1\n",
    "            if player_games[f'{server_name}_games'] == 5 and player_games[f'{receiver_name}_games'] == 5:\n",
    "                games_to_win = 7\n",
    "                \n",
    "            game_counter += 1\n",
    "             \n",
    "        if player_games[f'{server_name}_games'] > player_games[f'{receiver_name}_games']:\n",
    "            player_sets[f'{server_name}_sets'] += 1\n",
    "            final_score[server] += 1\n",
    "        else:\n",
    "            player_sets[f'{receiver_name}_sets'] += 1\n",
    "            final_score[receiver] += 1\n",
    "\n",
    "    game_winner = sorted(final_score.items(), key=lambda x: x[1])[-1][0]\n",
    "    \n",
    "    return result_df, final_score, game_winner"
   ]
  },
  {
   "cell_type": "code",
   "execution_count": 121,
   "metadata": {},
   "outputs": [],
   "source": [
    "df, dd, winner = simulate_game(np.int64(240),np.int64(338))"
   ]
  },
  {
   "cell_type": "code",
   "execution_count": 119,
   "metadata": {},
   "outputs": [
    {
     "data": {
      "text/plain": [
       "((175, 6),\n",
       "   server       server_name receiver     receiver_name winner winner_name\n",
       " 0    338     Ryan Harrison      240  Marcin Matkowski      0           0\n",
       " 0    338     Ryan Harrison      240  Marcin Matkowski      0           0\n",
       " 0    338     Ryan Harrison      240  Marcin Matkowski      1           1\n",
       " 0    338     Ryan Harrison      240  Marcin Matkowski      1           1\n",
       " 0    338     Ryan Harrison      240  Marcin Matkowski      1           1\n",
       " 0    338     Ryan Harrison      240  Marcin Matkowski      1           1\n",
       " 0    240  Marcin Matkowski      338     Ryan Harrison      0           0\n",
       " 0    240  Marcin Matkowski      338     Ryan Harrison      1           1\n",
       " 0    240  Marcin Matkowski      338     Ryan Harrison      1           1\n",
       " 0    240  Marcin Matkowski      338     Ryan Harrison      0           0)"
      ]
     },
     "execution_count": 119,
     "metadata": {},
     "output_type": "execute_result"
    }
   ],
   "source": [
    "df.shape, df.head(10)"
   ]
  },
  {
   "cell_type": "code",
   "execution_count": 122,
   "metadata": {},
   "outputs": [
    {
     "data": {
      "text/plain": [
       "({240: 2, 338: 1}, 240)"
      ]
     },
     "execution_count": 122,
     "metadata": {},
     "output_type": "execute_result"
    }
   ],
   "source": [
    "dd, winner"
   ]
  },
  {
   "cell_type": "code",
   "execution_count": 75,
   "metadata": {},
   "outputs": [
    {
     "data": {
      "text/plain": [
       "['Marcin Matkowski', 'sets']"
      ]
     },
     "execution_count": 75,
     "metadata": {},
     "output_type": "execute_result"
    }
   ],
   "source": [
    "\"Marcin Matkowski_sets\".split(\"_\")"
   ]
  }
 ],
 "metadata": {
  "kernelspec": {
   "display_name": "Python 3",
   "language": "python",
   "name": "python3"
  },
  "language_info": {
   "codemirror_mode": {
    "name": "ipython",
    "version": 3
   },
   "file_extension": ".py",
   "mimetype": "text/x-python",
   "name": "python",
   "nbconvert_exporter": "python",
   "pygments_lexer": "ipython3",
   "version": "3.10.9"
  },
  "orig_nbformat": 4
 },
 "nbformat": 4,
 "nbformat_minor": 2
}
